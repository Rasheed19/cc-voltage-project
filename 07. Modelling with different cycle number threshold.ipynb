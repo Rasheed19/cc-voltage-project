{
 "cells": [
  {
   "cell_type": "code",
   "execution_count": null,
   "metadata": {},
   "outputs": [],
   "source": [
    "import numpy as np\n",
    "import warnings\n",
    "import matplotlib.pyplot as plt\n",
    "from sklearn.model_selection import train_test_split\n",
    "from xgboost import XGBRegressor\n",
    "from sklearn.multioutput import MultiOutputRegressor\n",
    "from sklearn.compose import TransformedTargetRegressor\n",
    "from utils import utils_gn, utils_noah, utils_ivc, utils_dgrd, utils_models\n",
    "import importlib\n",
    "importlib.reload(utils_gn)\n",
    "importlib.reload(utils_noah)\n",
    "importlib.reload(utils_ivc)\n",
    "importlib.reload(utils_models)\n",
    "importlib.reload(utils_dgrd)\n",
    "warnings.filterwarnings(\"ignore\")"
   ]
  },
  {
   "cell_type": "code",
   "execution_count": null,
   "metadata": {},
   "outputs": [],
   "source": [
    "# load train raw data\n",
    "train_raw = utils_gn.read_data('train_1238.pkl')"
   ]
  },
  {
   "cell_type": "code",
   "execution_count": null,
   "metadata": {},
   "outputs": [],
   "source": [
    "# Load test data\n",
    "test_raw = utils_gn.read_data('test_1238.pkl')\n",
    "y_test_raw = utils_gn.read_data('true_test_labels_1238.pkl')"
   ]
  },
  {
   "cell_type": "code",
   "execution_count": null,
   "metadata": {},
   "outputs": [],
   "source": [
    "list_of_cycles = np.arange(10, 101, 1)\n",
    "list_of_cycles"
   ]
  },
  {
   "cell_type": "code",
   "execution_count": null,
   "metadata": {},
   "outputs": [],
   "source": [
    "# Cross-validation on training set \n",
    "def choosing_best_n_cross_val(target_list, model_type, n_list, ylabels):\n",
    "\n",
    "        '''\n",
    "        Function to choose the best cycle number threshold for modelling through cross-validation.\n",
    "\n",
    "        Args:\n",
    "        ----\n",
    "                target_list: list of target to predict\n",
    "                model_type:  'cycle_at' (predict cycles) or 'value_at' (predict values at cycles)\n",
    "                n_list:      a list of cycle number threshold\n",
    "                ylabels:     a list of labels for y-axis\n",
    "\n",
    "        Returns:\n",
    "        -------\n",
    "                a plot of Cross-validated average errors vs cycle number.               \n",
    "        '''\n",
    "        \n",
    "        # Split targets based on capacity/IR\n",
    "        if model_type == 'cycle_at':\n",
    "                split_list = [target_list[:3], target_list[3:]]\n",
    "        elif model_type == 'value_at':\n",
    "                split_list = [target_list[:2], target_list[2:]]\n",
    "\n",
    "        fig, ax = plt.subplots(1, 2, figsize=(15, 4))\n",
    "\n",
    "        for i, split in enumerate(split_list):\n",
    "\n",
    "            this_mae, this_rmse = [], []\n",
    "            mae_ci, rmse_ci = [], []\n",
    "        \n",
    "            for n in n_list:\n",
    "                print('n: ', n)\n",
    "                \n",
    "                # Get training set\n",
    "                tr = utils_gn.FeatureTransformation(n=n)\n",
    "                X_train, y_train = tr.fit_transform(data=train_raw, targets=split, with_eol=True)\n",
    "\n",
    "\n",
    "                # Build model\n",
    "                if model_type == 'cycle_at':\n",
    "                        model = MultiOutputRegressor(XGBRegressor(n_estimators=50, reg_alpha=0.1, max_depth=2))\n",
    "                elif model_type == 'value_at':\n",
    "                        model = TransformedTargetRegressor(MultiOutputRegressor(XGBRegressor(n_estimators=500, max_depth=6)), func=np.log10,\n",
    "                                                                                             inverse_func=utils_models.antilog)\n",
    "                # Call k-fold cross-validation on the training set\n",
    "                val_scores, val_scores_raw = utils_models.kfold_cross_validation(X=X_train, y=y_train, model=model, cv=3)\n",
    "                \n",
    "                # Append the scores to the list of metrics\n",
    "                this_mae.append(val_scores['test_MAE'])\n",
    "                this_rmse.append(val_scores['test_RMSE'])\n",
    "\n",
    "                # Calculate the CI\n",
    "                mae_ci.append(utils_models.confidence_interval_any(values=val_scores_raw['test_MAE'], n_boostraps=1000, alpha=0.1))\n",
    "                rmse_ci.append(utils_models.confidence_interval_any(values=val_scores_raw['test_RMSE'], n_boostraps=1000, alpha=0.1))\n",
    "\n",
    "            # Cast to numpy array\n",
    "            mae_ci = np.array(mae_ci)\n",
    "            rmse_ci = np.array(rmse_ci)\n",
    "\n",
    "            ax[i].plot(n_list, this_mae, label='MAE', color='blue')\n",
    "            ax[i].fill_between(n_list, mae_ci[:, 0], mae_ci[:, 1], color='blue', alpha=0.1, label='MAE: 90% CI')\n",
    "\n",
    "            if model_type == 'value_at':\n",
    "                 ax[i].set_xlabel('Cycle number threshold', fontsize=16)\n",
    "           \n",
    "            ax[i].set_ylabel(ylabels[i], fontsize=16)\n",
    "            ax[i].set_title(', '.join(split), fontsize=18)\n",
    "\n",
    "            ax[i].plot(n_list, this_rmse, color='crimson', label='RMSE')\n",
    "            ax[i].fill_between(n_list, rmse_ci[:, 0], rmse_ci[:, 1], color='crimson', alpha=0.1, label='RMSE: 90% CI')\n",
    "            \n",
    "        if model_type == 'value_at':\n",
    "            handles, labels = ax[0].get_legend_handles_labels()\n",
    "            ax[0].legend(handles, labels, loc='upper center', ncol=4, fontsize=16, bbox_to_anchor=(1.0, -0.15))"
   ]
  },
  {
   "cell_type": "code",
   "execution_count": null,
   "metadata": {},
   "outputs": [],
   "source": [
    "# For the model that predicts 'cycle-at'\n",
    "choosing_best_n_cross_val(target_list=['k-o', 'k-p', 'EOL', 'e-o', 'e-p'], model_type='cycle_at', n_list=list_of_cycles,\n",
    "                          ylabels=['Cross-validated errors (cycles)', 'Cross-validated errors (cycles)'])"
   ]
  },
  {
   "cell_type": "code",
   "execution_count": null,
   "metadata": {},
   "outputs": [],
   "source": [
    "# For the model that predicts 'value-at'\n",
    "choosing_best_n_cross_val(target_list=['Qatk-o', 'Qatk-p', 'IRate-o', 'IRate-p', 'IRatEOL'], model_type='value_at', n_list=list_of_cycles,\n",
    "                          ylabels=['Cross-validated errors (Ah)', r'Cross-validated errors ($\\Omega$)'])"
   ]
  }
 ],
 "metadata": {
  "interpreter": {
   "hash": "31f2aee4e71d21fbe5cf8b01ff0e069b9275f58929596ceb00d14d90e3e16cd6"
  },
  "kernelspec": {
   "display_name": "Python 3.8.10 64-bit",
   "language": "python",
   "name": "python3"
  },
  "language_info": {
   "codemirror_mode": {
    "name": "ipython",
    "version": 3
   },
   "file_extension": ".py",
   "mimetype": "text/x-python",
   "name": "python",
   "nbconvert_exporter": "python",
   "pygments_lexer": "ipython3",
   "version": "3.8.10"
  },
  "orig_nbformat": 4
 },
 "nbformat": 4,
 "nbformat_minor": 2
}
