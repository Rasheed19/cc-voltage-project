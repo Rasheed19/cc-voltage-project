{
 "cells": [
  {
   "cell_type": "code",
   "execution_count": null,
   "metadata": {},
   "outputs": [],
   "source": [
    "from utils import utils_models, utils_gn, utils_dgrd, utils_ivc\n",
    "from config.definitions import ROOT_DIR\n",
    "import importlib\n",
    "importlib.reload(utils_models)\n",
    "importlib.reload(utils_gn)\n",
    "importlib.reload(utils_dgrd)\n",
    "importlib.reload(utils_ivc)"
   ]
  },
  {
   "cell_type": "code",
   "execution_count": null,
   "metadata": {},
   "outputs": [],
   "source": [
    "# load training raw data\n",
    "train_raw = utils_gn.read_data(\n",
    "    path=f\"{ROOT_DIR}/data\",\n",
    "    fname=\"train_1238.pkl\"\n",
    ")\n",
    "\n",
    "path_to_models = f\"{ROOT_DIR}/models\"\n",
    "\n",
    "df_features = utils_ivc.ccv_features(\n",
    "    data_dict=train_raw,\n",
    "    n=50\n",
    ")"
   ]
  },
  {
   "cell_type": "code",
   "execution_count": null,
   "metadata": {},
   "outputs": [],
   "source": [
    "cycle_model = utils_gn.read_data(path=path_to_models, fname='cycles.pkl')\n",
    "df_cycle = utils_models.feature_importance_analysis(\n",
    "    model=cycle_model,\n",
    "    feature_names=df_features.columns,\n",
    "    target_list=['k-o', 'k-p', 'e-o', 'e-p', 'EOL']\n",
    ")\n",
    "\n",
    "utils_models.plot_feature_importance(\n",
    "    df=df_cycle,\n",
    "    fname=\"feature-importance-cycle-at-bar\"\n",
    ")\n"
   ]
  },
  {
   "cell_type": "code",
   "execution_count": null,
   "metadata": {},
   "outputs": [],
   "source": [
    "# For the model that predicts capacity/IR\n",
    "cap_ir_model = utils_gn.read_data(path=path_to_models, fname='capacity_ir.pkl')\n",
    "df_cap_ir = utils_models.feature_importance_analysis(\n",
    "    model=cap_ir_model,\n",
    "    feature_names=df_features.columns,\n",
    "    target_list=['Qatk-o', 'Qatk-p', 'IRate-o', 'IRate-p', 'IRatEOL']\n",
    ")\n",
    "\n",
    "utils_models.plot_feature_importance(\n",
    "    df=df_cap_ir,\n",
    "    fname=\"feature-importance-value-at-bar\"\n",
    ")\n"
   ]
  }
 ],
 "metadata": {
  "interpreter": {
   "hash": "31f2aee4e71d21fbe5cf8b01ff0e069b9275f58929596ceb00d14d90e3e16cd6"
  },
  "kernelspec": {
   "display_name": "Python 3.8.10 64-bit",
   "language": "python",
   "name": "python3"
  },
  "language_info": {
   "codemirror_mode": {
    "name": "ipython",
    "version": 3
   },
   "file_extension": ".py",
   "mimetype": "text/x-python",
   "name": "python",
   "nbconvert_exporter": "python",
   "pygments_lexer": "ipython3",
   "version": "3.10.12"
  },
  "orig_nbformat": 4
 },
 "nbformat": 4,
 "nbformat_minor": 2
}
