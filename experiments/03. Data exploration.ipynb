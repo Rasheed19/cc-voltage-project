{
 "cells": [
  {
   "cell_type": "code",
   "execution_count": null,
   "metadata": {},
   "outputs": [],
   "source": [
    "from utils import utils_models, utils_gn, utils_dgrd, utils_ivc, utils_noah\n",
    "import matplotlib.pyplot as plt\n",
    "from mpl_toolkits.axes_grid1.inset_locator import inset_axes\n",
    "import importlib\n",
    "import numpy as np\n",
    "from config.definitions import ROOT_DIR\n",
    "import seaborn as sns\n",
    "importlib.reload(utils_models)\n",
    "importlib.reload(utils_gn)\n",
    "importlib.reload(utils_dgrd)\n",
    "importlib.reload(utils_ivc)\n",
    "importlib.reload(utils_noah)"
   ]
  },
  {
   "cell_type": "code",
   "execution_count": null,
   "metadata": {},
   "outputs": [],
   "source": [
    "# read training data\n",
    "train_raw_data = utils_gn.read_data(\n",
    "    path=f\"{ROOT_DIR}/data\",\n",
    "    fname=\"train_1238.pkl\"\n",
    ")\n",
    "train_raw_data.keys()"
   ]
  },
  {
   "cell_type": "code",
   "execution_count": null,
   "metadata": {},
   "outputs": [],
   "source": [
    "len(train_raw_data['b2c12']['cycle_dict'])"
   ]
  },
  {
   "cell_type": "code",
   "execution_count": null,
   "metadata": {},
   "outputs": [],
   "source": [
    "# Check the knee/elbow detection algorithm on sample cells\n",
    "\n",
    "# For knee\n",
    "sample_cells = ['b1c7', 'b2c42', 'b3c26']\n",
    "for sample_cell in sample_cells:\n",
    "    Qd = train_raw_data[sample_cell]['summary']['QDischarge']\n",
    "    utils_models.knee_elbow_detection(\n",
    "        x_data=np.arange(len(Qd)) + 1,\n",
    "        y_data=Qd,\n",
    "        type='knee',\n",
    "        p0=None,\n",
    "        p0_db=None,\n",
    "        plot=True,\n",
    "        ylabel='Capacity (Ah)',\n",
    "        ylim=[.88, 1.1],\n",
    "        title=sample_cell,\n",
    "        point_name1='Knee point',\n",
    "        point_name2='Knee onset'\n",
    "    )"
   ]
  },
  {
   "cell_type": "code",
   "execution_count": null,
   "metadata": {},
   "outputs": [],
   "source": [
    "# For elbow\n",
    "for sample_cell in sample_cells:\n",
    "    IR = train_raw_data[sample_cell]['summary']['IR']\n",
    "    utils_models.knee_elbow_detection(\n",
    "        x_data=np.arange(len(IR)) + 1,\n",
    "        y_data=IR,\n",
    "        type='elbow',\n",
    "        p0=None,\n",
    "        p0_db=None,\n",
    "        plot=True,\n",
    "        ylabel='Internal resistance ($\\Omega$)',\n",
    "        ylim=[0.013, 0.023],\n",
    "        title=sample_cell,\n",
    "        point_name1='Elbow point',\n",
    "        point_name2='Elbow onset'\n",
    "    )"
   ]
  },
  {
   "cell_type": "code",
   "execution_count": null,
   "metadata": {},
   "outputs": [],
   "source": [
    "# Generate training data frame for n=50 and n=100\n",
    "knee_elbow_df = utils_ivc.ccv_features(\n",
    "    data_dict=train_raw_data,\n",
    "    n=50\n",
    ").join(utils_dgrd.create_knee_elbow_data(train_raw_data))\n",
    "\n",
    "knee_elbow_df2 = utils_ivc.ccv_features(\n",
    "    data_dict=train_raw_data,\n",
    "    n=100\n",
    ").join(utils_dgrd.create_knee_elbow_data(train_raw_data))"
   ]
  },
  {
   "cell_type": "code",
   "execution_count": null,
   "metadata": {},
   "outputs": [],
   "source": [
    "# Checking correlation: heat map for n=50 and n=100\n",
    "targets = [\n",
    "    'k-o', 'k-p', 'Qatk-o', 'Qatk-p',\n",
    "    'e-o', 'e-p', 'IRate-o', 'IRate-p',\n",
    "    'IRatEOL', 'EOL'\n",
    "]\n",
    "\n",
    "for df, fname in zip((knee_elbow_df, knee_elbow_df2), ('correlation-heatmap-n-50', 'correlation-heatmap-n-100')):\n",
    "\n",
    "    corr_matrix = df.corr()\n",
    "\n",
    "    features = [el for el in df.columns if el not in targets]\n",
    "    features.remove('RUL')\n",
    "\n",
    "    corr_for_heatmap = corr_matrix.loc[targets, features]\n",
    "    fig, ax = plt.subplots(figsize=(4, 18))\n",
    "    cax = inset_axes(\n",
    "        ax,\n",
    "        width=\"100%\",\n",
    "        height=\"2%\",\n",
    "        loc='lower left',\n",
    "        bbox_to_anchor=(0, -0.09, 1, 1),\n",
    "        bbox_transform=ax.transAxes,\n",
    "        borderpad=0,\n",
    "    )\n",
    "    ax.set_xticklabels(targets, fontsize=14)\n",
    "    ax.set_yticklabels(features, fontsize=14)\n",
    "    sns.heatmap(corr_for_heatmap.T, vmin=-1, vmax=1, xticklabels=targets, yticklabels=features, linewidth=1, cmap='seismic', alpha=0.7, linecolor='black', ax=ax,\n",
    "                cbar_ax=cax, cbar_kws={'orientation': 'horizontal', 'label': 'Correlation'})\n",
    "    ax.figure.axes[-1].set_xlabel(r'Correlation ($\\rho$)', size=14)\n",
    "\n",
    "    plt.savefig(fname=f\"{ROOT_DIR}/plots/{fname}\", bbox_inches='tight')"
   ]
  },
  {
   "cell_type": "code",
   "execution_count": null,
   "metadata": {},
   "outputs": [],
   "source": [
    "# Plot cc discharge voltage for selected cells\n",
    "data_all = utils_gn.read_data(\n",
    "    path=f\"{ROOT_DIR}/data\",\n",
    "    fname=\"data_all.pkl\"\n",
    ")\n",
    "# data_all = {k: data_all[k] for k in train_raw_data.keys()}  # to use data from training set only\n",
    "ccv = utils_ivc.ccv_features(data_all, return_ccv=True)"
   ]
  },
  {
   "cell_type": "code",
   "execution_count": null,
   "metadata": {},
   "outputs": [],
   "source": [
    "# Save the generated ccv as pkl\n",
    "utils_gn.dump_data(\n",
    "    data=ccv,\n",
    "    path=f\"{ROOT_DIR}/data\",\n",
    "    fname= \"ccv_data.pkl\"\n",
    ")"
   ]
  },
  {
   "cell_type": "code",
   "execution_count": null,
   "metadata": {},
   "outputs": [],
   "source": [
    "# ccv = utils_gn.read_data('ccv_data.pkl')\n",
    "selected_cells = ['b1c30', 'b2c30', 'b3c27', 'b8c7']\n",
    "utils_ivc.plot_CCV_features(ccv, sample_cells=selected_cells, option=2)"
   ]
  },
  {
   "cell_type": "code",
   "execution_count": null,
   "metadata": {},
   "outputs": [],
   "source": [
    "I = train_raw_data['b1c30']['cycle_dict']['2']['I']\n",
    "V = train_raw_data['b1c30']['cycle_dict']['2']['V']\n",
    "t = train_raw_data['b1c30']['cycle_dict']['2']['t']\n",
    "t_discharge = np.logical_and((t >= 31), (t <= 45.5))\n",
    "\n",
    "\n",
    "ft = [r'Current ($A$)', r'Voltage (V)', r'Temperature ($^{\\circ}C$)']\n",
    "fig, ax = plt.subplots(1, 2, figsize=(11, 3))\n",
    "for i, f, val in zip([0, 1], ft, [I, V]):\n",
    "\n",
    "    ax[i].plot(t, val)\n",
    "\n",
    "    if i == 0:\n",
    "        ax[i].hlines(y=I[t_discharge][-1], xmin=31, xmax=45.5,\n",
    "                     linewidth=4, color='red', zorder=100, label='Discharge CC')\n",
    "\n",
    "    if i == 1:\n",
    "        ax[i].plot(t[t_discharge], val[t_discharge], linewidth=4,\n",
    "                   color='red', label='CC discharging voltage')\n",
    "\n",
    "    ax[i].axvline(x=31, color='red', linestyle='--')\n",
    "    ax[i].axvline(x=45.5, color='red', linestyle='--')\n",
    "    ax[i].set_xlabel('Time (minutes)', fontsize=16)\n",
    "    ax[i].set_ylabel(f, fontsize=16)\n",
    "\n",
    "    ax[i].legend(loc='lower left')\n",
    "\n",
    "plt.savefig(fname=f\"{ROOT_DIR}/plots/cc-ccdv\", bbox_inches='tight')"
   ]
  },
  {
   "attachments": {},
   "cell_type": "markdown",
   "metadata": {},
   "source": [
    "### Generating figures for reviewers' comments "
   ]
  },
  {
   "cell_type": "code",
   "execution_count": null,
   "metadata": {},
   "outputs": [],
   "source": [
    "all_batches = utils_gn.read_data(\n",
    "    fname=\"data_all.pkl\",\n",
    "    path=f\"{ROOT_DIR}/data\"\n",
    ")"
   ]
  },
  {
   "cell_type": "code",
   "execution_count": null,
   "metadata": {},
   "outputs": [],
   "source": [
    "all_batches['b2c1']['charge_policy']"
   ]
  },
  {
   "cell_type": "code",
   "execution_count": null,
   "metadata": {},
   "outputs": [],
   "source": [
    "sample_cells = ['b1c30', 'b1c0', 'b2c3', 'b2c4', 'b3c10', 'b8c4']\n",
    "# sample_cells = ['b1c30', 'b2c3', 'b3c10', 'b8c4']\n",
    "\n",
    "fig = plt.figure(figsize=(10, 12), constrained_layout=True)\n",
    "subfigs = fig.subfigures(6, 1)\n",
    "\n",
    "for i, subfig in enumerate(subfigs):\n",
    "    axes = subfig.subplots(1, 2)\n",
    "    axes[0].plot(all_batches[sample_cells[i]]['cycle_dict']['2']\n",
    "                 ['t'], all_batches[sample_cells[i]]['cycle_dict']['2']['I'])\n",
    "    axes[1].plot(all_batches[sample_cells[i]]['cycle_dict']['2']\n",
    "                 ['t'], all_batches[sample_cells[i]]['cycle_dict']['2']['V'])\n",
    "\n",
    "    if i == 5:\n",
    "        axes[0].set_xlabel('Time (minutes)', fontsize=14)\n",
    "        axes[1].set_xlabel('Time (minutes)', fontsize=14)\n",
    "\n",
    "    axes[0].set_ylabel(r'Current ($I$)', fontsize=14)\n",
    "    axes[1].set_ylabel(r'Voltage ($V$)', fontsize=14)\n",
    "\n",
    "    subfig.suptitle(\n",
    "        f\"Cell: {sample_cells[i]}, cycle: 2, charging policy: {all_batches[sample_cells[i]]['charge_policy']}\",\n",
    "        fontsize=16,\n",
    "    )"
   ]
  }
 ],
 "metadata": {
  "interpreter": {
   "hash": "31f2aee4e71d21fbe5cf8b01ff0e069b9275f58929596ceb00d14d90e3e16cd6"
  },
  "kernelspec": {
   "display_name": "Python 3.8.10 64-bit",
   "language": "python",
   "name": "python3"
  },
  "language_info": {
   "codemirror_mode": {
    "name": "ipython",
    "version": 3
   },
   "file_extension": ".py",
   "mimetype": "text/x-python",
   "name": "python",
   "nbconvert_exporter": "python",
   "pygments_lexer": "ipython3",
   "version": "3.10.12"
  },
  "orig_nbformat": 4
 },
 "nbformat": 4,
 "nbformat_minor": 2
}
