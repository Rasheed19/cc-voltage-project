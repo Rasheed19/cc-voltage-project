{
 "cells": [
  {
   "cell_type": "code",
   "execution_count": null,
   "metadata": {},
   "outputs": [],
   "source": [
    "import pandas as pd\n",
    "from config.definitions import ROOT_DIR\n",
    "from utils import utils_gn, utils_noah, utils_ivc, utils_dgrd, utils_models\n",
    "import importlib\n",
    "importlib.reload(utils_gn)\n",
    "importlib.reload(utils_noah)\n",
    "importlib.reload(utils_ivc)\n",
    "importlib.reload(utils_models)\n",
    "importlib.reload(utils_dgrd)"
   ]
  },
  {
   "cell_type": "code",
   "execution_count": null,
   "metadata": {},
   "outputs": [],
   "source": [
    "# load training raw data\n",
    "train_raw = utils_gn.read_data(\n",
    "    path=f\"{ROOT_DIR}/data\",\n",
    "    fname=\"train_1238.pkl\"\n",
    ")"
   ]
  },
  {
   "cell_type": "code",
   "execution_count": null,
   "metadata": {},
   "outputs": [],
   "source": [
    "# Load test data\n",
    "test_raw = utils_gn.read_data(\n",
    "    path=f\"{ROOT_DIR}/data\",\n",
    "    fname=\"test_1238.pkl\"\n",
    ")\n",
    "y_test = utils_gn.read_data(\n",
    "    path=f\"{ROOT_DIR}/data\",\n",
    "    fname=\"true_test_labels_1238.pkl\"\n",
    ")"
   ]
  },
  {
   "cell_type": "code",
   "execution_count": null,
   "metadata": {},
   "outputs": [],
   "source": [
    "# Create target list\n",
    "target_list = ['Qatk-o', 'Qatk-p', 'IRate-o', 'IRate-p', 'IRatEOL']"
   ]
  },
  {
   "cell_type": "code",
   "execution_count": null,
   "metadata": {},
   "outputs": [],
   "source": [
    "# Get training set\n",
    "tr = utils_gn.FeatureTransformation(n=50)\n",
    "X_train, y_train = tr.fit_transform(data=train_raw, targets=target_list, with_eol=True)"
   ]
  },
  {
   "cell_type": "code",
   "execution_count": null,
   "metadata": {},
   "outputs": [],
   "source": [
    "# Get test set\n",
    "X_test, y_test = tr.transform(test_raw), y_test[target_list].values"
   ]
  },
  {
   "cell_type": "code",
   "execution_count": null,
   "metadata": {},
   "outputs": [],
   "source": [
    "# Build model\n",
    "params = {'n_estimators': 500, 'max_depth': 6, 'learning_rate': 0.1}\n",
    "model = utils_models.ModelPipeline(params=params, transform_target=True)\n",
    "model = model.fit(X_train, y_train)"
   ]
  },
  {
   "cell_type": "code",
   "execution_count": null,
   "metadata": {},
   "outputs": [],
   "source": [
    "# Create a function to format errors\n",
    "def format_e(n):\n",
    "    a = '%e' % n\n",
    "    return a.split('e')[0].rstrip('0').rstrip('.') + 'e' + a.split('e')[1]"
   ]
  },
  {
   "cell_type": "code",
   "execution_count": null,
   "metadata": {},
   "outputs": [],
   "source": [
    "# Get training metrics and their confidence intervals\n",
    "train_pred = model.predict(X_train)\n",
    "train_scores = utils_models.metrics_calculator(y_train, train_pred, multi=True)\n",
    "train_scores = pd.DataFrame.from_dict(train_scores)\n",
    "train_scores['MAE CI'] = utils_models.confidence_interval_metrics(\n",
    "    actual=y_train,\n",
    "    predictions=train_pred,\n",
    "    n_bootstraps=10000,\n",
    "    target_list=target_list,\n",
    "    metric_type='mae'\n",
    ")\n",
    "train_scores['RMSE CI'] = utils_models.confidence_interval_metrics(\n",
    "    actual=y_train,\n",
    "    predictions=train_pred,\n",
    "    n_bootstraps=10000,\n",
    "    target_list=target_list,\n",
    "    metric_type='rmse'\n",
    ")\n",
    "train_scores.index = target_list\n",
    "\n",
    "\n",
    "train_scores = train_scores[['MAE', 'MAE CI', 'RMSE', 'RMSE CI']]\n",
    "train_scores"
   ]
  },
  {
   "cell_type": "code",
   "execution_count": null,
   "metadata": {},
   "outputs": [],
   "source": [
    "# Get test metrics and their confidence intervals\n",
    "test_pred = model.predict(X_test)\n",
    "test_scores = utils_models.metrics_calculator(y_test, test_pred, multi=True)\n",
    "test_scores = pd.DataFrame.from_dict(test_scores)\n",
    "test_scores['MAE CI'] = utils_models.confidence_interval_metrics(\n",
    "    actual=y_test,\n",
    "    predictions=test_pred,\n",
    "    n_bootstraps=10000,\n",
    "    target_list=target_list,\n",
    "    metric_type='mae'\n",
    ")\n",
    "test_scores['RMSE CI'] = utils_models.confidence_interval_metrics(\n",
    "    actual=y_test,\n",
    "    predictions=test_pred,\n",
    "    n_bootstraps=10000,\n",
    "    target_list=target_list,\n",
    "    metric_type='rmse'\n",
    ")\n",
    "test_scores.index = target_list\n",
    "\n",
    "test_scores = test_scores[['MAE', 'MAE CI', 'RMSE', 'RMSE CI']]\n",
    "test_scores\n"
   ]
  },
  {
   "cell_type": "code",
   "execution_count": null,
   "metadata": {},
   "outputs": [],
   "source": [
    "# Get the prediction intervals\n",
    "pred_interval, v_list = utils_models.prediction_interval(\n",
    "    X=X_train,\n",
    "    y=y_train,\n",
    "    model=model,\n",
    "    n_bootstraps=100,\n",
    "    target_list=target_list,\n",
    "    predictions=test_pred,\n",
    "    confidence_level=0.90,\n",
    "    plot_dist=True\n",
    ")"
   ]
  },
  {
   "cell_type": "code",
   "execution_count": null,
   "metadata": {},
   "outputs": [],
   "source": [
    "# Save data, models and transformation objects\n",
    "data_to_save = [\n",
    "    y_train,\n",
    "    train_pred,\n",
    "    model,\n",
    "    tr,\n",
    "    pred_interval\n",
    "]\n",
    "\n",
    "names_to_use = [\n",
    "    \"capir_train_labels.pkl\",\n",
    "    \"capir_train_pred.pkl\",\n",
    "    \"capacity_ir.pkl\",\n",
    "    \"capacity_ir_trans.pkl\",\n",
    "    \"capir_pred_interval.pkl\"\n",
    "]\n",
    "\n",
    "for dt, nm in zip(data_to_save, names_to_use):\n",
    "    utils_gn.dump_data(\n",
    "        data=dt,\n",
    "        fname=nm,\n",
    "        path=f\"{ROOT_DIR}/models\"\n",
    "    )"
   ]
  }
 ],
 "metadata": {
  "interpreter": {
   "hash": "31f2aee4e71d21fbe5cf8b01ff0e069b9275f58929596ceb00d14d90e3e16cd6"
  },
  "kernelspec": {
   "display_name": "Python 3.8.10 64-bit",
   "language": "python",
   "name": "python3"
  },
  "language_info": {
   "codemirror_mode": {
    "name": "ipython",
    "version": 3
   },
   "file_extension": ".py",
   "mimetype": "text/x-python",
   "name": "python",
   "nbconvert_exporter": "python",
   "pygments_lexer": "ipython3",
   "version": "3.10.12"
  },
  "orig_nbformat": 4
 },
 "nbformat": 4,
 "nbformat_minor": 2
}
