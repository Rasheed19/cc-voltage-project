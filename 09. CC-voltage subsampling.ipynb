{
 "cells": [
  {
   "cell_type": "code",
   "execution_count": null,
   "metadata": {},
   "outputs": [],
   "source": [
    "import numpy as np\n",
    "import warnings\n",
    "import pickle\n",
    "import os\n",
    "import matplotlib.pyplot as plt\n",
    "import scipy.stats as st\n",
    "from utils import utils_gn, utils_noah, utils_ivc, utils_dgrd, utils_models\n",
    "import importlib\n",
    "from xgboost import XGBRegressor\n",
    "importlib.reload(utils_gn)\n",
    "importlib.reload(utils_noah)\n",
    "importlib.reload(utils_ivc)\n",
    "importlib.reload(utils_models)\n",
    "importlib.reload(utils_dgrd)\n",
    "warnings.filterwarnings(\"ignore\")"
   ]
  },
  {
   "cell_type": "code",
   "execution_count": null,
   "metadata": {},
   "outputs": [],
   "source": [
    "# load train raw data\n",
    "train_raw = utils_gn.read_data('train_1238.pkl')"
   ]
  },
  {
   "cell_type": "code",
   "execution_count": null,
   "metadata": {},
   "outputs": [],
   "source": [
    "# Load test data\n",
    "test_raw = utils_gn.read_data('test_1238.pkl')\n",
    "y_test_raw = utils_gn.read_data('true_test_labels_1238.pkl')"
   ]
  },
  {
   "cell_type": "code",
   "execution_count": null,
   "metadata": {},
   "outputs": [],
   "source": [
    "# Create sub-sampling time step codes. Here, for instance, mapping a number  \n",
    "# n to a time step t (in minutes) means that that 1/n of the total \n",
    "# length of the CC voltage vector corresponds to taking measurment\n",
    "# at the end of every time t. Min and max time are 0.05 and \n",
    "# 4 minutes respectively.  \n",
    "\n",
    "def creating_time_steps():\n",
    "\n",
    "    t = 0.05\n",
    "    time_steps = []\n",
    "\n",
    "    while t < 4:\n",
    "        time_steps.append(t)\n",
    "        t += 0.05\n",
    "\n",
    "    return dict(zip(np.arange(len(time_steps))+1, time_steps))\n"
   ]
  },
  {
   "cell_type": "code",
   "execution_count": null,
   "metadata": {},
   "outputs": [],
   "source": [
    "# Check the codings\n",
    "creating_time_steps()"
   ]
  },
  {
   "cell_type": "code",
   "execution_count": null,
   "metadata": {},
   "outputs": [],
   "source": [
    "# Cross validation with data from voltage sub-sampling\n",
    "def CCV_sampling_eol_cross_val():\n",
    "   \n",
    "    error_metrics = []\n",
    "    mae_ci, rmse_ci = [], []\n",
    "\n",
    "    time_map = creating_time_steps()\n",
    "\n",
    "    for time in time_map.keys():\n",
    "\n",
    "        tr = utils_gn.FeatureTransformation(n=50, step_size=time)\n",
    "        X_train, y_train = tr.fit_transform(data=train_raw, targets=['EOL'], with_eol=True)\n",
    "\n",
    "        # Build model\n",
    "        params = {'n_estimators': 50, 'reg_alpha': 0.1, 'max_depth': 2}\n",
    "        model = XGBRegressor(**params)\n",
    "\n",
    "        # Call k-fold cross-validation on the training set\n",
    "        val_scores, val_scores_raw = utils_models.kfold_cross_validation(X=X_train, y=y_train, model=model, cv=3)\n",
    "        error_metrics.append(list(val_scores.values()))\n",
    "\n",
    "        # Calculate the 95% CI\n",
    "        mae_ci.append(utils_models.confidence_interval_any(values=val_scores_raw['test_MAE'], n_bootstraps=10000, alpha=0.05))\n",
    "        rmse_ci.append(utils_models.confidence_interval_any(values=val_scores_raw['test_RMSE'], n_bootstraps=10000, alpha=0.05))\n",
    "\n",
    "        print(f'step size: {time_map[time]} done')\n",
    "\n",
    "    with open(os.path.join(\"data\", \"ccv_subsample.pkl\"), \"wb\") as fp:\n",
    "        pickle.dump((list(time_map.values()), np.array(error_metrics), np.array(mae_ci), np.array(rmse_ci)), fp)\n",
    "\n",
    "    return list(time_map.values()), np.array(error_metrics), np.array(mae_ci), np.array(rmse_ci)"
   ]
  },
  {
   "cell_type": "code",
   "execution_count": null,
   "metadata": {},
   "outputs": [],
   "source": [
    "time, error, mae_ci, rmse_ci = CCV_sampling_eol_cross_val()"
   ]
  },
  {
   "cell_type": "code",
   "execution_count": null,
   "metadata": {},
   "outputs": [],
   "source": [
    "fig, ax = plt.subplots(1, 2, figsize=(15, 4))\n",
    "ax[0].plot(time[::2], error[:, 0][::2], label='EOL: MAE', color='blue')\n",
    "ax[0].fill_between(time[::2], mae_ci[:, 0][::2], mae_ci[:, 1][::2], color='blue', alpha=0.15, label='MAE: 95% CI')\n",
    "\n",
    "ax[1].plot(time[::2], error[:, 1][::2], label='EOL: RMSE', color='crimson')\n",
    "ax[1].fill_between(time[::2], rmse_ci[:, 0][::2], rmse_ci[:, 1][::2], color='crimson', alpha=0.15, label='RMSE: 95% CI')\n",
    "\n",
    "ax[0].legend()\n",
    "ax[1].legend()\n",
    "\n",
    "ax[0].set_xlabel(\"Sub-sampling time steps (mins)\", fontsize=16)\n",
    "ax[0].set_ylabel(\"Cross-validation errors (cycles)\", fontsize=16)\n",
    "ax[1].set_xlabel(\"Sub-sampling time steps (mins)\", fontsize=16)"
   ]
  },
  {
   "cell_type": "code",
   "execution_count": null,
   "metadata": {},
   "outputs": [],
   "source": []
  }
 ],
 "metadata": {
  "interpreter": {
   "hash": "31f2aee4e71d21fbe5cf8b01ff0e069b9275f58929596ceb00d14d90e3e16cd6"
  },
  "kernelspec": {
   "display_name": "Python 3.8.10 64-bit",
   "language": "python",
   "name": "python3"
  },
  "language_info": {
   "codemirror_mode": {
    "name": "ipython",
    "version": 3
   },
   "file_extension": ".py",
   "mimetype": "text/x-python",
   "name": "python",
   "nbconvert_exporter": "python",
   "pygments_lexer": "ipython3",
   "version": "3.10.6"
  },
  "orig_nbformat": 4
 },
 "nbformat": 4,
 "nbformat_minor": 2
}
